{
  "cells": [
    {
      "cell_type": "markdown",
      "metadata": {
        "id": "zn3fSIuZUPQM"
      },
      "source": [
        "## Grafo"
      ]
    },
    {
      "cell_type": "code",
      "execution_count": 6,
      "metadata": {
        "id": "N_34ybeV7Vmg"
      },
      "outputs": [],
      "source": [
        "from collections import defaultdict\n",
        "\n",
        "class Grafo():\n",
        "    \n",
        "    def __init__(self, arestas):\n",
        "        \"\"\" \n",
        "        defauldict para evitar erro caso algum acesso alem do tamanho do dict seja executado, ele cria um valor default set que evita duplicação.\n",
        "        Faz as ligações entre os vertices passados pelo parametro arestas.\n",
        "        \"\"\"\n",
        "        self.adj = defaultdict(set)\n",
        "        self.adiciona_arestas(arestas)\n",
        "\n",
        "    def adiciona_arestas(self, arestas): \n",
        "        \"\"\"Adiciona os vertices ligando-os de forma bidirecional\"\"\"\n",
        "        for u, v, k in arestas:\n",
        "            self.adj[u].add((v, k))\n",
        "            self.adj[v].add((u, k))\n",
        "\n",
        "    def get_vertices(self):\n",
        "        \"\"\"Mostra os vertices do grafo - 'objeto'.get_vertices()\"\"\" \n",
        "        return list(self.adj.keys())\n",
        "    \n",
        "    def get_arestas(self):\n",
        "        \"\"\"Mostra as arestas, itera os vertices(k) e os vertices ligados a ele(v) - 'objeto'.get_arestas()\"\"\"        \n",
        "        return [(k, v[0]) for k in self.adj.keys() for v in self.adj[k]] \n",
        "\n",
        "    def get_distancia(self, u, v):\n",
        "        \"\"\"Mostra a distancia entre dois vertices\"\"\"\n",
        "        for i in range(len(self.adj[u])):\n",
        "            if list(self.adj[u])[i][0] == v: \n",
        "                return list(self.adj[u])[i][1]\n",
        "        return None\n",
        "\n",
        "    def existe_aresta(self, u, v): \n",
        "        \"\"\"Verifica se a aresta existe - 'objeto'.existe_aresta( 'A', 'B' )\"\"\"\n",
        "        return u in self.adj and v in self.adj[u]\n",
        "    \n",
        "    def qtd_vertices(self): \n",
        "        \"\"\"Mostra a quantidade de vertices do grafo - 'objeto'.qtd_vertices()\"\"\"\n",
        "        return len(self.adj)\n",
        "\n",
        "    def mostrar_grafo(self): \n",
        "        \"\"\"Mostra o grafo - 'objeto'.mostrar_grafo()\"\"\"\n",
        "        return dict(self.adj) \n",
        "\n",
        "    def get_valores_do_vertice(self, v): \n",
        "        \"\"\"Mostra os vertices com qual o vertice selecionado tem ligação - 'objeto'.get_valores_do_vertice( 'A' )\"\"\"\n",
        "        return self.adj[v]"
      ]
    },
    {
      "cell_type": "markdown",
      "metadata": {
        "id": "fzIhP1uVUbUt"
      },
      "source": [
        "## Mapa com as distâncias"
      ]
    },
    {
      "cell_type": "code",
      "execution_count": 7,
      "metadata": {
        "id": "RryQB6LkUd5O"
      },
      "outputs": [],
      "source": [
        "mapa = []\n",
        "# Arad\n",
        "mapa.append(('Arad', 'Zerind', 75))\n",
        "mapa.append(('Arad', 'Sibiu', 140))\n",
        "mapa.append(('Arad', 'Timisoara', 118))\n",
        "\n",
        "# Zerind\n",
        "mapa.append(('Zerind', 'Oradea', 71))\n",
        "\n",
        "# Oradea\n",
        "mapa.append(('Oradea', 'Sibiu', 151))\n",
        "\n",
        "# Timisoara\n",
        "mapa.append(('Timisoara', 'Lugoj', 111))\n",
        "\n",
        "# Lugoj\n",
        "mapa.append(('Lugoj', 'Mehadia', 70))\n",
        "\n",
        "# Mehadia\n",
        "mapa.append(('Mehadia', 'Dobreta', 75))\n",
        "\n",
        "# Dobreta\n",
        "mapa.append(('Dobreta', 'Craiova', 120))\n",
        "\n",
        "# Craiova\n",
        "mapa.append(('Craiova', 'Rimnicu Vilcea', 146))\n",
        "mapa.append(('Craiova', 'Pitesti', 138))\n",
        "\n",
        "# Rimnicu Vilcea\n",
        "mapa.append(('Rimnicu Vilcea', 'Sibiu', 80))\n",
        "mapa.append(('Rimnicu Vilcea', 'Pitesti', 97))\n",
        "\n",
        "# Pitesti\n",
        "mapa.append(('Pitesti', 'Bucharest', 101))\n",
        "\n",
        "# Sibiu\n",
        "mapa.append(('Sibiu', 'Fagaras', 99))\n",
        "\n",
        "# Fagaras\n",
        "mapa.append(('Fagaras', 'Bucharest', 211))\n",
        "\n",
        "# Bucharest\n",
        "mapa.append(('Bucharest', 'Giurgiu', 90)) # Giurgiu\n",
        "mapa.append(('Bucharest', 'Urziceni', 85))\n",
        "\n",
        "# Urziceni\n",
        "mapa.append(('Urziceni', 'Hirsova', 98))\n",
        "mapa.append(('Urziceni', 'Vaslui', 142))\n",
        "\n",
        "# Hirsova\n",
        "mapa.append(('Hirsova', 'Eforie', 86)) # Eforie\n",
        "\n",
        "# Vaslui\n",
        "mapa.append(('Vaslui', 'Iasi', 92))\n",
        "\n",
        "# Iasi\n",
        "mapa.append(('Iasi', 'Neamt', 87)) # Neamt"
      ]
    },
    {
      "cell_type": "markdown",
      "metadata": {
        "id": "wJt3CwM3UjLW"
      },
      "source": [
        "## Distância em Linha reta para Bucharest"
      ]
    },
    {
      "cell_type": "code",
      "execution_count": 8,
      "metadata": {
        "id": "ibs6MOPpUpZm"
      },
      "outputs": [],
      "source": [
        "linha_reta = {}\n",
        "linha_reta['Bucharest'] = {}\n",
        "linha_reta['Bucharest'].update({'Arad': 366})\n",
        "linha_reta['Bucharest'].update({'Bucharest': 0})\n",
        "linha_reta['Bucharest'].update({'Craiova': 160})\n",
        "linha_reta['Bucharest'].update({'Dobreta': 242})\n",
        "linha_reta['Bucharest'].update({'Eforie': 161})\n",
        "linha_reta['Bucharest'].update({'Fagaras': 178})\n",
        "linha_reta['Bucharest'].update({'Giurgiu': 77})\n",
        "linha_reta['Bucharest'].update({'Hirsova': 151})\n",
        "linha_reta['Bucharest'].update({'Iasi': 226})\n",
        "linha_reta['Bucharest'].update({'Lugoj': 244})\n",
        "linha_reta['Bucharest'].update({'Mehadia': 241})\n",
        "linha_reta['Bucharest'].update({'Neamt': 234})\n",
        "linha_reta['Bucharest'].update({'Oradea': 380})\n",
        "linha_reta['Bucharest'].update({'Pitesti': 98})\n",
        "linha_reta['Bucharest'].update({'Rimnicu Vilcea': 193})\n",
        "linha_reta['Bucharest'].update({'Sibiu': 253})\n",
        "linha_reta['Bucharest'].update({'Timisoara': 329})\n",
        "linha_reta['Bucharest'].update({'Urziceni': 80})\n",
        "linha_reta['Bucharest'].update({'Vaslui': 199})\n",
        "linha_reta['Bucharest'].update({'Zerind': 374})"
      ]
    },
    {
      "cell_type": "markdown",
      "metadata": {
        "id": "K0__9WqFUw9N"
      },
      "source": [
        "## Busca A*"
      ]
    },
    {
      "cell_type": "code",
      "execution_count": 17,
      "metadata": {
        "colab": {
          "base_uri": "https://localhost:8080/"
        },
        "id": "6NZb1U4RU3BS",
        "outputId": "8d9f5e71-ac57-4229-a3ee-c22ab44c4c25"
      },
      "outputs": [
        {
          "name": "stdout",
          "output_type": "stream",
          "text": [
            " Origem: Arad - Destino: Bucharest -- Rota: ['Arad', 'Sibiu', 'Rimnicu Vilcea', 'Pitesti', 'Bucharest']\n",
            " Origem: Bucharest - Destino: Bucharest -- Rota: ['Bucharest']\n",
            " Origem: Craiova - Destino: Bucharest -- Rota: ['Craiova', 'Pitesti', 'Bucharest']\n",
            " Origem: Dobreta - Destino: Bucharest -- Rota: ['Dobreta', 'Craiova', 'Pitesti', 'Bucharest']\n",
            " Origem: Eforie - Destino: Bucharest -- Rota: ['Eforie', 'Hirsova', 'Urziceni', 'Bucharest']\n",
            " Origem: Fagaras - Destino: Bucharest -- Rota: ['Fagaras', 'Bucharest']\n",
            " Origem: Giurgiu - Destino: Bucharest -- Rota: ['Giurgiu', 'Bucharest']\n",
            " Origem: Hirsova - Destino: Bucharest -- Rota: ['Hirsova', 'Urziceni', 'Bucharest']\n",
            " Origem: Iasi - Destino: Bucharest -- Rota: ['Iasi', 'Vaslui', 'Urziceni', 'Bucharest']\n",
            " Origem: Lugoj - Destino: Bucharest -- Rota: ['Lugoj', 'Mehadia', 'Dobreta', 'Craiova', 'Pitesti', 'Bucharest']\n",
            " Origem: Mehadia - Destino: Bucharest -- Rota: ['Mehadia', 'Lugoj', 'Timisoara', 'Arad', 'Sibiu', 'Rimnicu Vilcea', 'Pitesti', 'Bucharest']\n",
            " Origem: Neamt - Destino: Bucharest -- Rota: ['Neamt', 'Iasi', 'Vaslui', 'Urziceni', 'Bucharest']\n",
            " Origem: Oradea - Destino: Bucharest -- Rota: ['Oradea', 'Sibiu', 'Rimnicu Vilcea', 'Pitesti', 'Bucharest']\n",
            " Origem: Pitesti - Destino: Bucharest -- Rota: ['Pitesti', 'Bucharest']\n",
            " Origem: Rimnicu Vilcea - Destino: Bucharest -- Rota: ['Rimnicu Vilcea', 'Pitesti', 'Bucharest']\n",
            " Origem: Sibiu - Destino: Bucharest -- Rota: ['Sibiu', 'Rimnicu Vilcea', 'Pitesti', 'Bucharest']\n",
            " Origem: Timisoara - Destino: Bucharest -- Rota: ['Timisoara', 'Lugoj', 'Mehadia', 'Dobreta', 'Craiova', 'Pitesti', 'Bucharest']\n",
            " Origem: Urziceni - Destino: Bucharest -- Rota: ['Urziceni', 'Bucharest']\n",
            " Origem: Vaslui - Destino: Bucharest -- Rota: ['Vaslui', 'Urziceni', 'Bucharest']\n",
            " Origem: Zerind - Destino: Bucharest -- Rota: ['Zerind', 'Arad', 'Sibiu', 'Rimnicu Vilcea', 'Pitesti', 'Bucharest']\n"
          ]
        }
      ],
      "source": [
        "def f(g, h):\n",
        "    \"\"\"Retorna o resultado da função.\n",
        "    g = distancia real do estado atual para proximo estado.\n",
        "    h = linha reta do proximo estado para o estado_final.\n",
        "    \"\"\"\n",
        "    return g + h\n",
        "\n",
        "def menor_cam(estado_atual, estado_final, funcao, caminho):\n",
        "    \"\"\"Retorna o menor caminho e todos caminho com a distancia calculada com a funcao.\"\"\"\n",
        "    menor = None\n",
        "    menor_caminho = None\n",
        "    for i in estado_atual:\n",
        "        distancia = funcao(i[1], linha_reta[estado_final][i[0]])\n",
        "        caminho.update({i[0]: distancia})\n",
        "        if not menor:\n",
        "            menor = distancia\n",
        "            menor_caminho = i[0]\n",
        "        if distancia < menor:\n",
        "            menor = distancia\n",
        "            menor_caminho = i[0]\n",
        "    return menor_caminho, caminho\n",
        "\n",
        "def caminho_rep(estado_atual, estado_final, funcao):\n",
        "    \"\"\"Retorna o menor caminho e todos caminho com a distancia calculada com a funcao quando o estado se repetir.\"\"\"\n",
        "    caminho = {}\n",
        "    menor_caminho, caminho = menor_cam(estado_atual, estado_final, funcao, caminho)\n",
        "    del caminho[menor_caminho]\n",
        "    menor = None\n",
        "    menor_caminho = None\n",
        "    for j in caminho:\n",
        "        if not caminho:\n",
        "            return 'Impossivel alcançar o destino'\n",
        "        if not menor:\n",
        "            menor = caminho[j]\n",
        "            menor_caminho = j\n",
        "        if caminho[j] < menor:\n",
        "            menor = caminho[j]\n",
        "            menor_caminho = j\n",
        "    return menor_caminho, caminho\n",
        "\n",
        "def busca_a_estrela(grafo, estado_inicial, estado_final, funcao):\n",
        "    \"\"\"Busca A* - Pecorre o grafo do estado inicial até o estado final e mostra o caminho pecorrido de acordo com a função\"\"\"\n",
        "    caminho_pecorrido = [estado_inicial]\n",
        "    if estado_inicial == estado_final:\n",
        "        return caminho_pecorrido\n",
        "    estado_atual = grafo.get_valores_do_vertice(estado_inicial)\n",
        "    menor_caminho = None\n",
        "    while menor_caminho != estado_final:\n",
        "        caminho = {}\n",
        "\n",
        "        menor_caminho, caminho = menor_cam(estado_atual, estado_final, funcao, caminho)\n",
        "        if menor_caminho in caminho_pecorrido:\n",
        "            menor_caminho, caminho = caminho_rep(estado_atual, estado_final, funcao)\n",
        "        \n",
        "        caminho_pecorrido.append(menor_caminho)\n",
        "        estado_atual = grafo.get_valores_do_vertice(menor_caminho)\n",
        "\n",
        "    return caminho_pecorrido\n",
        "            \n",
        "\n",
        "\n",
        "\n",
        "grafo = Grafo(mapa)\n",
        "#busca_a_estrela(grafo, 'Arad', 'Bucharest', f)\n",
        "#busca_a_estrela(grafo, 'Mehadia', 'Bucharest', f)\n",
        "#busca_a_estrela(grafo, 'Lugoj', 'Bucharest', f)\n",
        "#busca_a_estrela(grafo, 'Timisoara', 'Bucharest', f)\n",
        "\n",
        "for i in linha_reta['Bucharest']:\n",
        "    x = busca_a_estrela(grafo, i, 'Bucharest', f)\n",
        "    print(f' Origem: {i} - Destino: Bucharest -- Rota: {x}')"
      ]
    }
  ],
  "metadata": {
    "colab": {
      "collapsed_sections": [
        "zn3fSIuZUPQM",
        "fzIhP1uVUbUt",
        "wJt3CwM3UjLW",
        "K0__9WqFUw9N"
      ],
      "name": "Busca_A_Estrela.ipynb",
      "provenance": []
    },
    "interpreter": {
      "hash": "916dbcbb3f70747c44a77c7bcd40155683ae19c65e1c03b4aa3499c5328201f1"
    },
    "kernelspec": {
      "display_name": "Python 3.8.10 64-bit",
      "language": "python",
      "name": "python3"
    },
    "language_info": {
      "name": "python",
      "version": "3.8.10"
    }
  },
  "nbformat": 4,
  "nbformat_minor": 0
}
